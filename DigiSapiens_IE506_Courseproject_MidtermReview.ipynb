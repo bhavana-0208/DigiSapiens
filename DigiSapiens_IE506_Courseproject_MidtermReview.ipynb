{
  "nbformat": 4,
  "nbformat_minor": 0,
  "metadata": {
    "colab": {
      "provenance": [],
      "include_colab_link": true
    },
    "kernelspec": {
      "name": "python3",
      "display_name": "Python 3"
    },
    "language_info": {
      "name": "python"
    }
  },
  "cells": [
    {
      "cell_type": "markdown",
      "metadata": {
        "id": "view-in-github",
        "colab_type": "text"
      },
      "source": [
        "<a href=\"https://colab.research.google.com/github/bhavana-0208/DigiSapiens/blob/main/DigiSapiens_IE506_Courseproject_MidtermReview.ipynb\" target=\"_parent\"><img src=\"https://colab.research.google.com/assets/colab-badge.svg\" alt=\"Open In Colab\"/></a>"
      ]
    },
    {
      "cell_type": "code",
      "source": [
        "import pandas as pd\n",
        "\n",
        "def parse_cisi_dataset(file_path):\n",
        "    documents = []\n",
        "    with open(file_path, 'r', encoding='utf-8') as file:\n",
        "        current_doc_id = None\n",
        "        current_doc_text = \"\"\n",
        "        for line in file:\n",
        "            if line.startswith('.I'):\n",
        "                # New document ID found\n",
        "                if current_doc_id is not None:\n",
        "                    documents.append({'Doc_ID': current_doc_id, 'Text': current_doc_text.strip()})\n",
        "                current_doc_id = int(line.split()[-1])\n",
        "                current_doc_text = \"\"\n",
        "            elif line.startswith('.X'):\n",
        "                # End of document reached\n",
        "                if current_doc_id is not None:\n",
        "                    documents.append({'Doc_ID': current_doc_id, 'Text': current_doc_text.strip()})\n",
        "                current_doc_id = None\n",
        "            elif current_doc_id is not None:\n",
        "                # Collect text for the current document\n",
        "                current_doc_text += line.strip() + \" \"\n",
        "    return pd.DataFrame(documents)\n",
        "\n",
        "cisi_dataset_path = 'cisi.all'\n",
        "parsed_dataset = parse_cisi_dataset('/content/CISI.ALL')\n",
        "print(parsed_dataset)"
      ],
      "metadata": {
        "id": "ZdF5Gam9wv2g"
      },
      "execution_count": null,
      "outputs": []
    },
    {
      "cell_type": "code",
      "source": [
        "def parse_cisi_dataset(file_path):\n",
        "    documents = []\n",
        "    with open(file_path, 'r', encoding='utf-8') as file:\n",
        "        current_doc_id = None\n",
        "        current_doc_text = \"\"\n",
        "        for line in file:\n",
        "            if line.startswith('.I'):\n",
        "                # New document ID found\n",
        "                if current_doc_id is not None:\n",
        "                    documents.append({'Doc_ID': current_doc_id, 'Text': current_doc_text.strip()})\n",
        "                current_doc_id = int(line.split()[-1])\n",
        "                current_doc_text = \"\"\n",
        "            elif line.startswith('.X'):\n",
        "                # End of document reached\n",
        "                if current_doc_id is not None:\n",
        "                    documents.append({'Doc_ID': current_doc_id, 'Text': current_doc_text.strip()})\n",
        "                current_doc_id = None\n",
        "            elif current_doc_id is not None:\n",
        "                # Collect text for the current document\n",
        "                current_doc_text += line.strip() + \" \"\n",
        "    return documents\n",
        "\n",
        "def print_tabular(data):\n",
        "    print(\"{:<10}{}\".format(\"Doc ID\", \"Text\"))\n",
        "    print(\"=\" * 50)\n",
        "    for doc in data:\n",
        "        print(\"{:<10}{}\".format(doc['Doc_ID'], doc['Text'][:50]))  # Printing only first 50 characters for brevity\n",
        "\n",
        "cisi_dataset_path = '/content/CISI.ALL'\n",
        "parsed_dataset = parse_cisi_dataset(cisi_dataset_path)\n",
        "print_tabular(parsed_dataset)\n"
      ],
      "metadata": {
        "id": "vPMemLnTw9NB"
      },
      "execution_count": null,
      "outputs": []
    },
    {
      "cell_type": "code",
      "source": [
        "import csv\n",
        "\n",
        "def parse_cisi_dataset(file_path):\n",
        "    documents = []\n",
        "    current_doc_id = None\n",
        "    current_column = None\n",
        "    current_doc_text = \"\"\n",
        "\n",
        "    with open(file_path, 'r', encoding='utf-8') as file:\n",
        "        for line in file:\n",
        "            if line.startswith('.I'):\n",
        "                # New document ID found\n",
        "                if current_doc_id is not None:\n",
        "                    documents.append({'Doc_ID': current_doc_id, current_column: current_doc_text.strip()})\n",
        "                    current_doc_text = \"\"\n",
        "                current_doc_id = int(line.split()[-1])\n",
        "            elif line.startswith('.W'):\n",
        "                # Switching to a new column\n",
        "                current_column = 'Text'\n",
        "            elif line.startswith('.X'):\n",
        "                # reached end of document\n",
        "                if current_doc_id is not None:\n",
        "                    documents.append({'Doc_ID': current_doc_id, current_column: current_doc_text.strip()})\n",
        "                    current_doc_id = None\n",
        "                    current_column = None\n",
        "                    current_doc_text = \"\"\n",
        "            elif current_column == 'Text':\n",
        "                # Collecting text for the current column\n",
        "                current_doc_text += line.strip() + \" \"\n",
        "\n",
        "    return documents\n",
        "\n",
        "def print_tabular(data):\n",
        "    print(\"{:<10}{}\".format(\"Doc ID\", \"Text\"))\n",
        "    print(\"=\" * 50)\n",
        "    for doc in data:\n",
        "        print(\"{:<10}{}\".format(doc['Doc_ID'], doc['Text'][:100]))  # Printing only first 50 characters for brevity\n",
        "\n",
        "def save_to_csv(data, file_path):\n",
        "    with open(file_path, 'w', newline='', encoding='utf-8') as csvfile:\n",
        "        fieldnames = ['Doc_ID', 'Text']\n",
        "        writer = csv.DictWriter(csvfile, fieldnames=fieldnames)\n",
        "        writer.writeheader()\n",
        "        for doc in data:\n",
        "            writer.writerow(doc)\n",
        "\n",
        "# Example usage:\n",
        "cisi_dataset_path = '/content/CISI.ALL'\n",
        "parsed_dataset = parse_cisi_dataset(cisi_dataset_path)\n",
        "a= print_tabular(parsed_dataset)\n",
        "\n",
        "csv_file_path = 'cisi_dataset.csv'\n",
        "save_to_csv(parsed_dataset, csv_file_path)\n"
      ],
      "metadata": {
        "id": "cKK_D_l9xBis"
      },
      "execution_count": null,
      "outputs": []
    },
    {
      "cell_type": "code",
      "source": [
        "import csv\n",
        "\n",
        "def parse_med_dataset(file_path):\n",
        "    documents = []\n",
        "    current_doc_id = None\n",
        "    current_column = None\n",
        "    current_doc_text = \"\"\n",
        "\n",
        "    with open(file_path, 'r', encoding='utf-8') as file:\n",
        "        for line in file:\n",
        "            if line.startswith('.I'):\n",
        "                # New document ID found\n",
        "                if current_doc_id is not None:\n",
        "                    documents.append({'Doc_ID': current_doc_id, current_column: current_doc_text.strip()})\n",
        "                    current_doc_text = \"\"\n",
        "                current_doc_id = int(line.split()[-1])\n",
        "            elif line.startswith('.W'):\n",
        "                # Switching to a new column\n",
        "                current_column = 'Text'\n",
        "            elif line.startswith('.X'):\n",
        "                # End of document reached\n",
        "                if current_doc_id is not None:\n",
        "                    documents.append({'Doc_ID': current_doc_id, current_column: current_doc_text.strip()})\n",
        "                    current_doc_id = None\n",
        "                    current_column = None\n",
        "                    current_doc_text = \"\"\n",
        "            elif current_column == 'Text':\n",
        "                # Collecting text for the current column\n",
        "                current_doc_text += line.strip() + \" \"\n",
        "\n",
        "    return documents\n",
        "\n",
        "def print_tabular(data):\n",
        "    print(\"{:<10}{}\".format(\"Doc ID\", \"Text\"))\n",
        "    print(\"=\" * 50)\n",
        "    for doc in data:\n",
        "        print(\"{:<10}{}\".format(doc['Doc_ID'], doc['Text'][:100]))  # Printing only first 50 characters for brevity\n",
        "\n",
        "def save_to_csv(data, file_path):\n",
        "    with open(file_path, 'w', newline='', encoding='utf-8') as csvfile:\n",
        "        fieldnames = ['Doc_ID', 'Text']\n",
        "        writer = csv.DictWriter(csvfile, fieldnames=fieldnames)\n",
        "        writer.writeheader()\n",
        "        for doc in data:\n",
        "            writer.writerow(doc)\n",
        "\n",
        "# Example usage:\n",
        "med_dataset_path = '/content/MED.ALL'\n",
        "parsed_dataset_med = parse_med_dataset(med_dataset_path)\n",
        "bin= print_tabular(parsed_dataset_med)\n",
        "\n",
        "csv_file_path = 'med_dataset.csv'\n",
        "save_to_csv(parsed_dataset_med, csv_file_path)"
      ],
      "metadata": {
        "id": "QQVK3BK0xF5r"
      },
      "execution_count": null,
      "outputs": []
    },
    {
      "cell_type": "code",
      "source": [
        "import csv\n",
        "\n",
        "def parse_cran_dataset(file_path):\n",
        "    documents = []\n",
        "    current_doc_id = None\n",
        "    current_column = None\n",
        "    current_doc_text = \"\"\n",
        "\n",
        "    with open(file_path, 'r', encoding='utf-8') as file:\n",
        "        for line in file:\n",
        "            if line.startswith('.I'):\n",
        "                # New document ID found\n",
        "                if current_doc_id is not None:\n",
        "                    documents.append({'Doc_ID': current_doc_id, current_column: current_doc_text.strip()})\n",
        "                    current_doc_text = \"\"\n",
        "                current_doc_id = int(line.split()[-1])\n",
        "\n",
        "\n",
        "            elif line.startswith('.T'):\n",
        "                # Switching to a new column\n",
        "                current_column = 'Title'\n",
        "\n",
        "\n",
        "\n",
        "\n",
        "            elif line.startswith('.W'):\n",
        "                # Switching to a new column\n",
        "                current_column = 'Text'\n",
        "            elif line.startswith('.X'):\n",
        "                # End of document reached\n",
        "                if current_doc_id is not None:\n",
        "                    documents.append({'Doc_ID': current_doc_id, current_column: current_doc_text.strip()})\n",
        "                    current_doc_id = None\n",
        "                    current_column = None\n",
        "                    current_doc_text = \"\"\n",
        "            elif current_column == 'Text':\n",
        "                # Collecting text for the current column\n",
        "                current_doc_text += line.strip() + \" \"\n",
        "\n",
        "    return documents\n",
        "\n",
        "def print_tabular(data):\n",
        "    print(\"{:<10}{}\".format(\"Doc ID\", \"Text\"))\n",
        "    print(\"=\" * 50)\n",
        "    for doc in data:\n",
        "        print(\"{:<10}{}\".format(doc['Doc_ID'], doc['Text'][:100]))  # Printing only first 50 characters for brevity\n",
        "\n",
        "def save_to_csv(data, file_path):\n",
        "    with open(file_path, 'w', newline='', encoding='utf-8') as csvfile:\n",
        "        fieldnames = ['Doc_ID', 'Text']\n",
        "        writer = csv.DictWriter(csvfile, fieldnames=fieldnames)\n",
        "        writer.writeheader()\n",
        "        for doc in data:\n",
        "            writer.writerow(doc)\n",
        "\n",
        "# Example usage:\n",
        "cran_dataset_path = '/content/cran.all.1400'\n",
        "parsed_dataset_cran = parse_cran_dataset(cran_dataset_path)\n",
        "bin= print_tabular(parsed_dataset_cran)\n",
        "\n",
        "csv_file_path = 'cran_dataset.csv'\n",
        "save_to_csv(parsed_dataset_cran, csv_file_path)"
      ],
      "metadata": {
        "id": "UZtkq5nuxKrG"
      },
      "execution_count": null,
      "outputs": []
    },
    {
      "cell_type": "code",
      "source": [
        "import pandas as pd\n",
        "cisi = pd.read_csv('/content/med_dataset.csv')\n",
        "cisi.head()"
      ],
      "metadata": {
        "id": "nI9WiCpoxPzV"
      },
      "execution_count": null,
      "outputs": []
    },
    {
      "cell_type": "code",
      "source": [
        "med = pd.read_csv('/content/med_dataset.csv')\n",
        "med.head()"
      ],
      "metadata": {
        "id": "Zg_i9QmhxSQo"
      },
      "execution_count": null,
      "outputs": []
    },
    {
      "cell_type": "code",
      "source": [
        "cran = pd.read_csv('/content/cran_dataset.csv')\n",
        "cran.head()"
      ],
      "metadata": {
        "id": "owBD0zJsxUkB"
      },
      "execution_count": null,
      "outputs": []
    },
    {
      "cell_type": "code",
      "source": [
        "cisi.drop(columns=['Doc_ID'],inplace=True)\n",
        "display(cisi.head())"
      ],
      "metadata": {
        "id": "_djT5kEOxWv7"
      },
      "execution_count": null,
      "outputs": []
    },
    {
      "cell_type": "code",
      "source": [
        "med.drop(columns=['Doc_ID'],inplace=True)\n",
        "display(med.head())\n",
        "cran.drop(columns=['Doc_ID'],inplace=True)\n",
        "display(cran.head())"
      ],
      "metadata": {
        "id": "p_0r2OSNxZIb"
      },
      "execution_count": null,
      "outputs": []
    },
    {
      "cell_type": "code",
      "source": [
        "cisi_10 = cisi.head(10)\n",
        "med_10 = med.head(10)\n",
        "cran_10 = cran.head(10)\n",
        "display(cisi_10.shape)"
      ],
      "metadata": {
        "id": "GE6Il-G0xbus"
      },
      "execution_count": null,
      "outputs": []
    },
    {
      "cell_type": "code",
      "source": [
        "dataset_30 = pd.concat([cisi_10,med_10,cran_10])\n",
        "dataset_30"
      ],
      "metadata": {
        "id": "5Jbhtzefxecd"
      },
      "execution_count": null,
      "outputs": []
    },
    {
      "cell_type": "code",
      "source": [
        "cisi_50 = cisi.head(50)\n",
        "med_50 = med.head(50)\n",
        "cran_50 = cran.head(50)\n",
        "dataset_150 = pd.concat([cisi_50,med_50,cran_50])\n",
        "dataset_150.shape"
      ],
      "metadata": {
        "id": "SvChcHuFxhTk"
      },
      "execution_count": null,
      "outputs": []
    },
    {
      "cell_type": "code",
      "source": [
        "cisi_100 = cisi.head(100)\n",
        "med_100 = med.head(100)\n",
        "cran_100 = cran.head(100)\n",
        "dataset_300 = pd.concat([cisi_100,med_100,cran_100])\n",
        "dataset_300.shape"
      ],
      "metadata": {
        "id": "J19U-tq0xj6N"
      },
      "execution_count": null,
      "outputs": []
    },
    {
      "cell_type": "code",
      "source": [
        "from google.colab import files\n",
        "csv_file_path = 'dataset_30.csv'\n",
        "dataset_30.to_csv(csv_file_path, index=False)"
      ],
      "metadata": {
        "id": "FhVWHbV-xmQL"
      },
      "execution_count": null,
      "outputs": []
    },
    {
      "cell_type": "code",
      "source": [
        "# files.download('dataset_30.csv')"
      ],
      "metadata": {
        "id": "OQtciyYtxpBq"
      },
      "execution_count": null,
      "outputs": []
    },
    {
      "cell_type": "code",
      "source": [
        "from google.colab import files\n",
        "csv_file_path = 'dataset_150.csv'\n",
        "dataset_150.to_csv(csv_file_path, index=False)\n",
        "# files.download('dataset_150.csv')"
      ],
      "metadata": {
        "id": "MhQcCeE6xre_"
      },
      "execution_count": null,
      "outputs": []
    },
    {
      "cell_type": "code",
      "source": [
        "from google.colab import files\n",
        "csv_file_path = 'dataset_300.csv'\n",
        "dataset_300.to_csv(csv_file_path, index=False)\n",
        "# files.download('dataset_300.csv')"
      ],
      "metadata": {
        "id": "-Wew6SGFxt0a"
      },
      "execution_count": null,
      "outputs": []
    },
    {
      "cell_type": "code",
      "execution_count": null,
      "metadata": {
        "id": "qBZ60G9051fV"
      },
      "outputs": [],
      "source": [
        "import pandas as pd\n",
        "dataset_30 = pd.read_csv('/content/dataset_30.csv')\n",
        "from sklearn.feature_extraction.text import TfidfVectorizer\n",
        "documents = dataset_30['Text'].values.astype(\"U\")\n",
        "vectorizer = TfidfVectorizer(stop_words='english')\n",
        "features_dataset_30 = vectorizer.fit_transform(documents)\n",
        "features_dataset_30\n",
        "\n",
        "dense_matrix = features_dataset_30.toarray()\n",
        "\n",
        "df_features_dataset_30 = pd.DataFrame(dense_matrix)"
      ]
    },
    {
      "cell_type": "code",
      "source": [
        "\n",
        "dataset_150 = pd.read_csv('/content/dataset_150.csv')\n",
        "from sklearn.feature_extraction.text import TfidfVectorizer\n",
        "documents = dataset_150['Text'].values.astype(\"U\")\n",
        "vectorizer = TfidfVectorizer(stop_words='english')\n",
        "features_dataset_150 = vectorizer.fit_transform(documents)\n",
        "features_dataset_150\n",
        "dense_matrix = features_dataset_150.toarray()\n",
        "df_features_dataset_150 = pd.DataFrame(dense_matrix)"
      ],
      "metadata": {
        "id": "poF5ThVz93o8"
      },
      "execution_count": null,
      "outputs": []
    },
    {
      "cell_type": "code",
      "source": [
        "dataset_300 = pd.read_csv('/content/dataset_300.csv')\n",
        "from sklearn.feature_extraction.text import TfidfVectorizer\n",
        "documents = dataset_300['Text'].values.astype(\"U\")\n",
        "vectorizer = TfidfVectorizer(stop_words='english')\n",
        "features_dataset_300 = vectorizer.fit_transform(documents)\n",
        "features_dataset_300\n",
        "\n",
        "dense_matrix = features_dataset_300.toarray()\n",
        "\n",
        "df_features_dataset_300 = pd.DataFrame(dense_matrix)"
      ],
      "metadata": {
        "id": "LxGGPHxa-Hem"
      },
      "execution_count": null,
      "outputs": []
    },
    {
      "cell_type": "code",
      "source": [
        "terms = vectorizer.get_feature_names_out()\n",
        "print(terms[:10])"
      ],
      "metadata": {
        "colab": {
          "base_uri": "https://localhost:8080/"
        },
        "id": "aDicZDovBDpq",
        "outputId": "082a3b0d-6bda-4bd1-c02f-c98acc418b8a"
      },
      "execution_count": null,
      "outputs": [
        {
          "output_type": "stream",
          "name": "stdout",
          "text": [
            "['000' '01' '06' '10' '100' '101' '104' '11' '1100' '112']\n"
          ]
        }
      ]
    },
    {
      "cell_type": "markdown",
      "source": [
        "### K-means on small dataset"
      ],
      "metadata": {
        "id": "ktLYGoBXmKrJ"
      }
    },
    {
      "cell_type": "code",
      "source": [
        "import random\n",
        "import numpy as np\n",
        "\n",
        "class KMeans:\n",
        "  def __init__(self,n_clusters=5,max_iter=100):\n",
        "    self.n_clusters = n_clusters\n",
        "    self.max_iter = max_iter\n",
        "    self.labels_ = None\n",
        "    self.centroids = None\n",
        "    self.n_iter_ = None\n",
        "\n",
        "  def fit_predict(self,X):\n",
        "\n",
        "      random_index = random.sample(range(0,X.shape[0]),self.n_clusters)\n",
        "      self.centroids = X[random_index]\n",
        "\n",
        "      for i in range(self.max_iter):\n",
        "          # assigning clusters\n",
        "          cluster_group = self.assign_clusters(X)\n",
        "          old_centroids = np.copy(self.centroids)\n",
        "          # moving centroids\n",
        "          self.move_centroids(X,cluster_group)\n",
        "\n",
        "          if np.allclose(old_centroids, self.centroids):\n",
        "              break\n",
        "\n",
        "      self.n_iter_ = i + 1  #iterations completed\n",
        "      return cluster_group\n",
        "\n",
        "  def assign_clusters(self, X):\n",
        "        # Assigning each data point to the nearest centroid\n",
        "        distances = np.sqrt(((X[:, np.newaxis] - self.centroids) ** 2).sum(axis=2))\n",
        "        cluster_group = np.argmin(distances, axis=1)\n",
        "        return cluster_group\n",
        "\n",
        "  def move_centroids(self, X, cluster_group):\n",
        "        # Moving centroids to the mean of their assigned points\n",
        "        for i in range(self.n_clusters):\n",
        "            if np.any(cluster_group == i):\n",
        "                self.centroids[i] = np.mean(X[cluster_group == i], axis=0)\n",
        "\n"
      ],
      "metadata": {
        "id": "Otguf74_ECGU"
      },
      "execution_count": null,
      "outputs": []
    },
    {
      "cell_type": "code",
      "source": [
        "import pandas as pd\n",
        "\n",
        "X = df_features_dataset_30.iloc[:,:].values\n",
        "\n",
        "km = KMeans(n_clusters=3,max_iter=500)\n",
        "y_means = km.fit_predict(X)\n",
        "\n",
        "for cluster_num in range(3):\n",
        "    print(f\"Samples assigned to cluster {cluster_num}:\")\n",
        "    cluster_samples = df_features_dataset_30[y_means == cluster_num].index\n",
        "    print(cluster_samples)\n",
        "    print()\n",
        "\n",
        "print(\"Final centroids:\", km.centroids)\n",
        "print(\"Number of iterations performed:\", km.n_iter_)\n"
      ],
      "metadata": {
        "id": "lYVhOv6r8QK8",
        "outputId": "47a0ee66-68ee-4908-ae1a-705871bcb520",
        "colab": {
          "base_uri": "https://localhost:8080/"
        }
      },
      "execution_count": null,
      "outputs": [
        {
          "output_type": "stream",
          "name": "stdout",
          "text": [
            "Samples assigned to cluster 0:\n",
            "Index([0, 1, 2, 3, 4, 6, 7, 8, 9, 18], dtype='int64')\n",
            "\n",
            "Samples assigned to cluster 1:\n",
            "Index([10, 11, 12, 13, 14, 15, 17, 19], dtype='int64')\n",
            "\n",
            "Samples assigned to cluster 2:\n",
            "Index([5, 16, 20, 21, 22, 23, 24, 25, 26, 27, 28, 29], dtype='int64')\n",
            "\n",
            "Final centroids: [[0.         0.         0.00906185 ... 0.01518333 0.01062798 0.        ]\n",
            " [0.01059011 0.0118775  0.         ... 0.         0.         0.006907  ]\n",
            " [0.02490678 0.         0.         ... 0.         0.         0.        ]]\n",
            "Number of iterations performed: 2\n"
          ]
        }
      ]
    },
    {
      "cell_type": "markdown",
      "source": [
        "### Spherical K-means"
      ],
      "metadata": {
        "id": "OwWw_kdil5Z4"
      }
    },
    {
      "cell_type": "code",
      "source": [
        "def spherical_k_means(X, k, tolerance=1e-6, max_iterations=100):\n",
        "    n, d = X.shape\n",
        "    # Initialize cluster centroids randomly\n",
        "    centroids = X[np.random.choice(n, k, replace=False)]\n",
        "    prev_objective = np.inf\n",
        "    num_iterations = 0\n",
        "\n",
        "    for iteration in range(max_iterations):\n",
        "        # Assign each point to the nearest centroid\n",
        "        distances = np.dot(X, centroids.T)\n",
        "        cluster_assignments = np.argmax(distances, axis=1)\n",
        "\n",
        "        # Update centroids\n",
        "        for i in range(k):\n",
        "            cluster_points = X[cluster_assignments == i]\n",
        "            norm = np.linalg.norm(cluster_points, axis=1, keepdims=True)\n",
        "            centroids[i] = np.sum(cluster_points / norm, axis=0)\n",
        "\n",
        "        # Calculate objective function value\n",
        "        dot_products = np.sum(distances[np.arange(n), cluster_assignments])\n",
        "        objective = dot_products\n",
        "\n",
        "        # Check convergence\n",
        "        if np.abs(objective - prev_objective) < tolerance:\n",
        "            break\n",
        "\n",
        "        prev_objective = objective\n",
        "        num_iterations += 1\n",
        "\n",
        "    return centroids, cluster_assignments, objective, num_iterations"
      ],
      "metadata": {
        "id": "8Y-sd5b2L1yo"
      },
      "execution_count": null,
      "outputs": []
    },
    {
      "cell_type": "code",
      "source": [
        "X = df_features_dataset_30.values\n",
        "\n",
        "k=3\n",
        "\n",
        "centroids, cluster_assignments, objective, num_iterations = spherical_k_means(X, k)\n",
        "print(\"Number of iterations:\", num_iterations)\n",
        "print(\"centroids:\",centroids)\n",
        "print(\"cluster_assignments:\",cluster_assignments)\n",
        "print(\"objective:\",objective)"
      ],
      "metadata": {
        "colab": {
          "base_uri": "https://localhost:8080/"
        },
        "id": "SCsOQLPcL5Vt",
        "outputId": "af52be31-2088-41d9-c9ef-78d73a58b84f"
      },
      "execution_count": null,
      "outputs": [
        {
          "output_type": "stream",
          "name": "stdout",
          "text": [
            "Number of iterations: 3\n",
            "centroids: [[0.3836023  0.09502    0.         ... 0.         0.         0.        ]\n",
            " [0.         0.         0.         ... 0.         0.         0.05525604]\n",
            " [0.         0.         0.09061848 ... 0.15183333 0.10627975 0.        ]]\n",
            "cluster_assignments: [0 2 2 2 2 2 2 2 2 2 0 1 0 0 0 0 0 0 1 0 0 0 0 0 1 1 0 0 0 1]\n",
            "objective: 51.80219310890706\n"
          ]
        }
      ]
    },
    {
      "cell_type": "code",
      "source": [
        "from sklearn.metrics import confusion_matrix, ConfusionMatrixDisplay"
      ],
      "metadata": {
        "id": "q4b7O4ZIP3Nw"
      },
      "execution_count": null,
      "outputs": []
    },
    {
      "cell_type": "code",
      "source": [
        "cluster_assignments"
      ],
      "metadata": {
        "colab": {
          "base_uri": "https://localhost:8080/"
        },
        "outputId": "342e2da4-2af6-47c0-9f1b-2af2975129b6",
        "id": "SOkyRgJXP3Ny"
      },
      "execution_count": null,
      "outputs": [
        {
          "output_type": "execute_result",
          "data": {
            "text/plain": [
              "array([0, 2, 2, 2, 2, 2, 2, 2, 2, 2, 0, 1, 0, 0, 0, 0, 0, 0, 1, 0, 0, 0,\n",
              "       0, 0, 1, 1, 0, 0, 0, 1])"
            ]
          },
          "metadata": {},
          "execution_count": 11
        }
      ]
    },
    {
      "cell_type": "code",
      "source": [
        "true_clusters = [0] * 10 + [1] * 10 + [2] * 10\n",
        "np.array(true_clusters)\n",
        "print(true_clusters)"
      ],
      "metadata": {
        "colab": {
          "base_uri": "https://localhost:8080/"
        },
        "outputId": "30b7d76a-1326-40b6-b2bf-9f420544bc09",
        "id": "KxRA9ugPP3Nz"
      },
      "execution_count": null,
      "outputs": [
        {
          "output_type": "stream",
          "name": "stdout",
          "text": [
            "[0, 0, 0, 0, 0, 0, 0, 0, 0, 0, 1, 1, 1, 1, 1, 1, 1, 1, 1, 1, 2, 2, 2, 2, 2, 2, 2, 2, 2, 2]\n"
          ]
        }
      ]
    },
    {
      "cell_type": "code",
      "source": [
        "cm= confusion_matrix(true_clusters, cluster_assignments)\n",
        "print(cm)"
      ],
      "metadata": {
        "colab": {
          "base_uri": "https://localhost:8080/"
        },
        "outputId": "34a1c468-fac8-4f34-a4d6-1a8be7bb6ff0",
        "id": "JpH4fwm2P3N0"
      },
      "execution_count": null,
      "outputs": [
        {
          "output_type": "stream",
          "name": "stdout",
          "text": [
            "[[1 0 9]\n",
            " [8 2 0]\n",
            " [7 3 0]]\n"
          ]
        }
      ]
    },
    {
      "cell_type": "code",
      "source": [
        "cm_disp =ConfusionMatrixDisplay(confusion_matrix=cm, display_labels=['π1','π2','π3'])\n",
        "cm_disp.plot()"
      ],
      "metadata": {
        "colab": {
          "base_uri": "https://localhost:8080/",
          "height": 473
        },
        "outputId": "ebb50a45-a180-423f-b44c-0a025f77ece1",
        "id": "hWq8S2WVP3N0"
      },
      "execution_count": null,
      "outputs": [
        {
          "output_type": "execute_result",
          "data": {
            "text/plain": [
              "<sklearn.metrics._plot.confusion_matrix.ConfusionMatrixDisplay at 0x79654676fa30>"
            ]
          },
          "metadata": {},
          "execution_count": 14
        },
        {
          "output_type": "display_data",
          "data": {
            "text/plain": [
              "<Figure size 640x480 with 2 Axes>"
            ],
            "image/png": "[encoded data removed]"
          },
          "metadata": {}
        }
      ]
    },
    {
      "cell_type": "markdown",
      "source": [
        "### Refinement Algorithm"
      ],
      "metadata": {
        "id": "KXBEXuSgmRpX"
      }
    },
    {
      "cell_type": "code",
      "source": [
        "import numpy as np\n",
        "\n",
        "def spherical_k_means(X, k, tolerance=1e-6, max_iterations=100):\n",
        "    n, d = X.shape\n",
        "    # Initializing the cluster centroids randomly\n",
        "    centroids = X[np.random.choice(n, k, replace=False)]\n",
        "    prev_objective = np.inf\n",
        "\n",
        "    for iteration in range(max_iterations):\n",
        "        # Assigning each point to the nearest centroid\n",
        "        distances = np.dot(X, centroids.T)\n",
        "        cluster_assignments = np.argmax(distances, axis=1)\n",
        "\n",
        "        # Updating centroids\n",
        "        for i in range(k):\n",
        "            cluster_points = X[cluster_assignments == i]\n",
        "            norm = np.linalg.norm(cluster_points, axis=1, keepdims=True)\n",
        "            centroids[i] = np.sum(cluster_points / norm, axis=0)\n",
        "\n",
        "        # Calculating objective function value\n",
        "        dot_products = np.sum(distances[np.arange(n), cluster_assignments])\n",
        "        objective = dot_products\n",
        "\n",
        "        #convergence\n",
        "        if objective - prev_objective < tolerance:\n",
        "            break\n",
        "\n",
        "        prev_objective = objective\n",
        "\n",
        "        # Sorting centroids based on their norm\n",
        "        norms = np.linalg.norm(centroids, axis=1)\n",
        "        sorted_indices = np.argsort(norms)\n",
        "        centroids = centroids[sorted_indices]\n",
        "\n",
        "\n",
        "    return centroids, cluster_assignments, objective\n",
        "\n",
        "def kernighan_lin_first_variation(X, cluster_assignments, centroids, k):\n",
        "    n, d = X.shape\n",
        "    # Initializing objective change\n",
        "    max_change = 0\n",
        "    max_i = 0\n",
        "\n",
        "    for i in range(n):\n",
        "        for j in range(k):\n",
        "            if cluster_assignments[i] != j:\n",
        "                # Computing quality change after moving point i to cluster j\n",
        "                old_cluster = cluster_assignments[i]\n",
        "                new_centroids = np.copy(centroids)\n",
        "                new_centroids[old_cluster] -= X[i] / np.linalg.norm(X[i])\n",
        "                new_centroids[j] += X[i] / np.linalg.norm(X[i])\n",
        "                old_q = (X[i] @ centroids[old_cluster])\n",
        "                new_q = (X[i] @ new_centroids[j])\n",
        "                change = new_q - old_q\n",
        "                if change > max_change:\n",
        "                    max_change = change\n",
        "                    max_i = i\n",
        "    return max_i, max_change\n",
        "\n",
        "def refinement_algorithm(X, k, tolerance=1e-6, max_iterations=100, f=1):\n",
        "    n, d = X.shape\n",
        "    # Initializing cluster assignments randomly\n",
        "    cluster_assignments = np.random.randint(0, k, n)\n",
        "    prev_objective = np.inf\n",
        "    objective_values = []\n",
        "\n",
        "    for t in range(max_iterations):\n",
        "        # Step 1: Spherical k-Means Iteration\n",
        "        centroids, cluster_assignments, objective = spherical_k_means(X, k, tolerance, max_iterations)\n",
        "        if objective - prev_objective > tolerance:\n",
        "            prev_objective = objective\n",
        "            objective_values.append((t, 'Spherical k-Means', objective))\n",
        "            continue\n",
        "\n",
        "        # Step 2: Kernighan-Lin First Variation\n",
        "        max_change = 0\n",
        "        max_i = 0\n",
        "        unmarked_indices = set(range(n))\n",
        "        for _ in range(f):\n",
        "            i, change = kernighan_lin_first_variation(X, cluster_assignments, centroids, k)\n",
        "            max_change += change\n",
        "            max_i = i\n",
        "            if i in unmarked_indices:\n",
        "                unmarked_indices.remove(i)\n",
        "\n",
        "        if max_change > tolerance:\n",
        "            old_cluster = cluster_assignments[max_i]\n",
        "            new_cluster = np.argmax(np.dot(X[max_i], centroids.T))\n",
        "            cluster_assignments[max_i] = new_cluster\n",
        "            centroids[old_cluster] -= X[max_i] / np.linalg.norm(X[max_i])\n",
        "            centroids[new_cluster] += X[max_i] / np.linalg.norm(X[max_i])\n",
        "\n",
        "            if max_i in unmarked_indices:\n",
        "                unmarked_indices.remove(max_i)\n",
        "            prev_objective = objective\n",
        "            objective_values.append((t, 'Kernighan-Lin First Variation', objective))\n",
        "        else:\n",
        "\n",
        "            break\n",
        "\n",
        "            if prev_objective - objective < 0:\n",
        "               break\n",
        "\n",
        "    return centroids, cluster_assignments, objective, np.array(objective_values)\n",
        "\n"
      ],
      "metadata": {
        "id": "I6RLKIQDa6VM"
      },
      "execution_count": null,
      "outputs": []
    },
    {
      "cell_type": "code",
      "source": [
        "import pandas as pd\n",
        "import numpy as np\n",
        "\n",
        "def normalize_vectors(X):\n",
        "    return X / np.linalg.norm(X, axis=1, keepdims=True)\n",
        "\n",
        "X = df_features_dataset_30.to_numpy()\n",
        "\n",
        "X_normalized = normalize_vectors(X)\n",
        "\n",
        "k = 3\n",
        "\n",
        "centroids, cluster_assignments, objective, objective_values = refinement_algorithm(X_normalized, k,f=1)\n",
        "\n",
        "print(\"Final Centroids:\")\n",
        "print(centroids)\n",
        "print(\"\\nCluster Assignments:\")\n",
        "print(cluster_assignments)\n",
        "print(\"\\nFinal Objective Function Value:\", objective)\n",
        "print(\"\\nConvergence:\")\n",
        "print(\"Iteration\\tAlgorithm\\t\\tObjective Value\")\n",
        "for iter_num, algorithm, obj_value in objective_values:\n",
        "    print(f\"{iter_num}\\t\\t{algorithm}\\t\\t{obj_value}\")\n"
      ],
      "metadata": {
        "colab": {
          "base_uri": "https://localhost:8080/"
        },
        "id": "qMgTwEbscnBU",
        "outputId": "a5c0d6b5-2fb7-4f10-fadb-21257ad3b870"
      },
      "execution_count": null,
      "outputs": [
        {
          "output_type": "stream",
          "name": "stdout",
          "text": [
            "Final Centroids:\n",
            "[[0.0847209  0.09502    0.         ... 0.         0.10627975 0.05525604]\n",
            " [0.29888139 0.         0.         ... 0.         0.         0.        ]\n",
            " [0.         0.         0.09061848 ... 0.15183333 0.         0.        ]]\n",
            "\n",
            "Cluster Assignments:\n",
            "[0 2 0 2 0 2 2 2 2 2 2 0 0 0 0 0 0 0 1 0 0 1 1 1 1 1 1 1 1 0]\n",
            "\n",
            "Final Objective Function Value: 4.600315432934146\n",
            "\n",
            "Convergence:\n",
            "Iteration\tAlgorithm\t\tObjective Value\n",
            "0\t\tKernighan-Lin First Variation\t\t5.331960390526164\n",
            "1\t\tKernighan-Lin First Variation\t\t4.279489134400204\n",
            "2\t\tSpherical k-Means\t\t6.2207856689331225\n",
            "3\t\tKernighan-Lin First Variation\t\t5.329937575887035\n",
            "4\t\tKernighan-Lin First Variation\t\t4.979874389007944\n",
            "5\t\tSpherical k-Means\t\t5.382311856988885\n",
            "6\t\tKernighan-Lin First Variation\t\t4.609395256674181\n",
            "7\t\tKernighan-Lin First Variation\t\t4.1309522530549145\n",
            "8\t\tSpherical k-Means\t\t6.377032154468067\n",
            "9\t\tKernighan-Lin First Variation\t\t5.125689730501395\n",
            "10\t\tKernighan-Lin First Variation\t\t4.405130888444245\n",
            "11\t\tSpherical k-Means\t\t5.999606607404259\n",
            "12\t\tSpherical k-Means\t\t6.181781019019836\n",
            "13\t\tKernighan-Lin First Variation\t\t5.594152283147292\n",
            "14\t\tSpherical k-Means\t\t5.7974546709355\n",
            "15\t\tSpherical k-Means\t\t6.82720279355\n",
            "16\t\tKernighan-Lin First Variation\t\t4.093989186409062\n",
            "17\t\tSpherical k-Means\t\t5.159405305921714\n",
            "18\t\tSpherical k-Means\t\t5.480142173569532\n",
            "19\t\tKernighan-Lin First Variation\t\t4.03847969467278\n",
            "20\t\tSpherical k-Means\t\t5.746320943144976\n",
            "21\t\tSpherical k-Means\t\t5.802557451026009\n",
            "22\t\tKernighan-Lin First Variation\t\t5.195844408693112\n",
            "23\t\tKernighan-Lin First Variation\t\t5.16630875321546\n",
            "24\t\tKernighan-Lin First Variation\t\t3.945200163431226\n",
            "25\t\tKernighan-Lin First Variation\t\t3.8322094112760126\n",
            "26\t\tSpherical k-Means\t\t6.300441635564446\n",
            "27\t\tKernighan-Lin First Variation\t\t4.174460301062153\n",
            "28\t\tSpherical k-Means\t\t5.302809920021165\n",
            "29\t\tKernighan-Lin First Variation\t\t4.57789120947336\n",
            "30\t\tSpherical k-Means\t\t5.5666327726747244\n",
            "31\t\tKernighan-Lin First Variation\t\t4.870913703256285\n",
            "32\t\tSpherical k-Means\t\t5.738540865556903\n",
            "33\t\tSpherical k-Means\t\t6.043434172720583\n",
            "34\t\tKernighan-Lin First Variation\t\t5.742649972089376\n",
            "35\t\tKernighan-Lin First Variation\t\t4.585795156349715\n",
            "36\t\tKernighan-Lin First Variation\t\t4.579900723074754\n",
            "37\t\tSpherical k-Means\t\t6.601629656717678\n",
            "38\t\tKernighan-Lin First Variation\t\t4.89812183703004\n",
            "39\t\tKernighan-Lin First Variation\t\t4.279489134400204\n",
            "40\t\tSpherical k-Means\t\t5.742951283410864\n",
            "41\t\tKernighan-Lin First Variation\t\t5.738393214872963\n",
            "42\t\tKernighan-Lin First Variation\t\t4.9100964774492315\n",
            "43\t\tSpherical k-Means\t\t5.019073465128498\n",
            "44\t\tKernighan-Lin First Variation\t\t4.678685433126169\n",
            "45\t\tKernighan-Lin First Variation\t\t4.100712788654868\n",
            "46\t\tKernighan-Lin First Variation\t\t4.061953130533633\n",
            "47\t\tKernighan-Lin First Variation\t\t3.7538393507348973\n",
            "48\t\tSpherical k-Means\t\t4.688437409176921\n",
            "49\t\tSpherical k-Means\t\t6.058604747400932\n",
            "50\t\tKernighan-Lin First Variation\t\t4.438789979639619\n",
            "51\t\tSpherical k-Means\t\t4.796551201431449\n",
            "52\t\tKernighan-Lin First Variation\t\t4.644683115003873\n",
            "53\t\tKernighan-Lin First Variation\t\t3.9423282216967377\n",
            "54\t\tSpherical k-Means\t\t4.186479904381087\n",
            "55\t\tKernighan-Lin First Variation\t\t4.166581142365054\n",
            "56\t\tSpherical k-Means\t\t5.360209104511744\n",
            "57\t\tSpherical k-Means\t\t6.012051015103544\n",
            "58\t\tKernighan-Lin First Variation\t\t5.817491208203853\n",
            "59\t\tKernighan-Lin First Variation\t\t4.344051954828336\n",
            "60\t\tSpherical k-Means\t\t5.940776217613618\n",
            "61\t\tKernighan-Lin First Variation\t\t4.974328461875555\n",
            "62\t\tSpherical k-Means\t\t5.354315770612093\n",
            "63\t\tKernighan-Lin First Variation\t\t5.049810796207011\n",
            "64\t\tSpherical k-Means\t\t5.446423315573808\n",
            "65\t\tSpherical k-Means\t\t5.8423441310080415\n",
            "66\t\tSpherical k-Means\t\t6.326750564106348\n",
            "67\t\tKernighan-Lin First Variation\t\t4.46502616093553\n",
            "68\t\tKernighan-Lin First Variation\t\t4.278156497790414\n",
            "69\t\tSpherical k-Means\t\t6.049543360825712\n",
            "70\t\tKernighan-Lin First Variation\t\t4.548767569136896\n",
            "71\t\tSpherical k-Means\t\t4.778558860673426\n",
            "72\t\tKernighan-Lin First Variation\t\t3.8918798860544976\n",
            "73\t\tSpherical k-Means\t\t5.431845396666257\n",
            "74\t\tKernighan-Lin First Variation\t\t5.281835466971097\n",
            "75\t\tSpherical k-Means\t\t5.80430344343365\n",
            "76\t\tSpherical k-Means\t\t5.8405799369794416\n",
            "77\t\tKernighan-Lin First Variation\t\t5.498328515723102\n",
            "78\t\tKernighan-Lin First Variation\t\t4.832115612923025\n",
            "79\t\tSpherical k-Means\t\t5.1911379233686725\n",
            "80\t\tSpherical k-Means\t\t5.746320943144976\n",
            "81\t\tKernighan-Lin First Variation\t\t5.1982398194487995\n",
            "82\t\tSpherical k-Means\t\t5.705516769753635\n",
            "83\t\tKernighan-Lin First Variation\t\t4.181009189790838\n",
            "84\t\tSpherical k-Means\t\t6.107969491029165\n",
            "85\t\tKernighan-Lin First Variation\t\t4.1757907478061105\n",
            "86\t\tSpherical k-Means\t\t6.389604254721301\n",
            "87\t\tKernighan-Lin First Variation\t\t5.457103881319167\n",
            "88\t\tKernighan-Lin First Variation\t\t4.111283122608882\n",
            "89\t\tSpherical k-Means\t\t5.485338311745152\n",
            "90\t\tKernighan-Lin First Variation\t\t4.671254340831286\n",
            "91\t\tSpherical k-Means\t\t5.087571203242474\n",
            "92\t\tKernighan-Lin First Variation\t\t4.992181298706609\n",
            "93\t\tSpherical k-Means\t\t5.14855230890485\n",
            "94\t\tKernighan-Lin First Variation\t\t4.900911355502667\n",
            "95\t\tSpherical k-Means\t\t5.507758066074589\n",
            "96\t\tKernighan-Lin First Variation\t\t5.441753268736621\n",
            "97\t\tKernighan-Lin First Variation\t\t4.272644997428866\n",
            "98\t\tKernighan-Lin First Variation\t\t4.111545153324419\n",
            "99\t\tSpherical k-Means\t\t4.600315432934146\n"
          ]
        }
      ]
    },
    {
      "cell_type": "code",
      "source": [
        "from sklearn.metrics import confusion_matrix, ConfusionMatrixDisplay"
      ],
      "metadata": {
        "id": "k4-SJM_P0nLE"
      },
      "execution_count": null,
      "outputs": []
    },
    {
      "cell_type": "code",
      "source": [
        "cluster_assignments"
      ],
      "metadata": {
        "colab": {
          "base_uri": "https://localhost:8080/"
        },
        "id": "kn6KTCJW1esF",
        "outputId": "51b82081-e628-4d85-ba3f-6af029bcf936"
      },
      "execution_count": null,
      "outputs": [
        {
          "output_type": "execute_result",
          "data": {
            "text/plain": [
              "array([0, 2, 0, 2, 0, 2, 2, 2, 2, 2, 2, 0, 0, 0, 0, 0, 0, 0, 1, 0, 0, 1,\n",
              "       1, 1, 1, 1, 1, 1, 1, 0])"
            ]
          },
          "metadata": {},
          "execution_count": 109
        }
      ]
    },
    {
      "cell_type": "code",
      "source": [
        "true_clusters = [0] * 10 + [1] * 10 + [2] * 10\n",
        "np.array(true_clusters)\n",
        "print(true_clusters)"
      ],
      "metadata": {
        "colab": {
          "base_uri": "https://localhost:8080/"
        },
        "id": "MZip50bX19-T",
        "outputId": "8456fb17-7a12-4d4a-e12c-b2c508222e7a"
      },
      "execution_count": null,
      "outputs": [
        {
          "output_type": "stream",
          "name": "stdout",
          "text": [
            "[0, 0, 0, 0, 0, 0, 0, 0, 0, 0, 1, 1, 1, 1, 1, 1, 1, 1, 1, 1, 2, 2, 2, 2, 2, 2, 2, 2, 2, 2]\n"
          ]
        }
      ]
    },
    {
      "cell_type": "code",
      "source": [
        "cm= confusion_matrix(true_clusters, cluster_assignments)\n",
        "print(cm)"
      ],
      "metadata": {
        "colab": {
          "base_uri": "https://localhost:8080/"
        },
        "id": "tgvWmQA93E7g",
        "outputId": "0e313d36-aabb-4c59-a2d1-93a05ff064f2"
      },
      "execution_count": null,
      "outputs": [
        {
          "output_type": "stream",
          "name": "stdout",
          "text": [
            "[[3 0 7]\n",
            " [8 1 1]\n",
            " [2 8 0]]\n"
          ]
        }
      ]
    },
    {
      "cell_type": "code",
      "source": [
        "cm_disp =ConfusionMatrixDisplay(confusion_matrix=cm, display_labels=['π1','π2','π3'])\n",
        "cm_disp.plot()"
      ],
      "metadata": {
        "colab": {
          "base_uri": "https://localhost:8080/",
          "height": 467
        },
        "id": "qMtldFEv_eEr",
        "outputId": "8bf31bd7-a756-42e5-9b63-d6e1e7b53235"
      },
      "execution_count": null,
      "outputs": [
        {
          "output_type": "execute_result",
          "data": {
            "text/plain": [
              "<sklearn.metrics._plot.confusion_matrix.ConfusionMatrixDisplay at 0x7f552f18b040>"
            ]
          },
          "metadata": {},
          "execution_count": 103
        },
        {
          "output_type": "display_data",
          "data": {
            "text/plain": [
              "<Figure size 640x480 with 2 Axes>"
            ],
            "image/png": "[encoded data removed]"
          },
          "metadata": {}
        }
      ]
    },
    {
      "cell_type": "code",
      "source": [
        "import matplotlib.pyplot as plt\n",
        "import numpy as np\n",
        "\n",
        "obj_list=[]\n",
        "for iter_num, algorithm, obj_value in objective_values:\n",
        "  obj_list.append(obj_value)\n",
        "\n",
        "itr_list=[]\n",
        "for iter_num, algorithm, obj_value in objective_values:\n",
        "  itr_list.append(iter_num)\n",
        "\n",
        "#itr_list and obj_list to numeric type\n",
        "itr_list = [int(num) for num in itr_list]\n",
        "obj_list = [float(val) for val in obj_list]\n",
        "\n",
        "plt.plot(itr_list, obj_list, color='grey', linewidth=2, marker='o', markerfacecolor='black', markersize=6)\n",
        "plt.xlabel('Iterations number')\n",
        "plt.ylabel('Objective function value')\n",
        "plt.title('Change on objective function with every iteration')\n",
        "\n",
        "max_itr = max(itr_list)\n",
        "plt.xticks(np.arange(0, max_itr, 10))\n",
        "plt.yticks([i * max(obj_list) / 8 for i in range(9)])\n",
        "\n",
        "plt.show()"
      ],
      "metadata": {
        "colab": {
          "base_uri": "https://localhost:8080/",
          "height": 472
        },
        "id": "SguubisDMvRo",
        "outputId": "439470a8-10de-4fde-9c67-c6b5833f9533"
      },
      "execution_count": null,
      "outputs": [
        {
          "output_type": "display_data",
          "data": {
            "text/plain": [
              "<Figure size 640x480 with 1 Axes>"
            ],
            "image/png": "[encoded data removed]"
          },
          "metadata": {}
        }
      ]
    }
  ]
}